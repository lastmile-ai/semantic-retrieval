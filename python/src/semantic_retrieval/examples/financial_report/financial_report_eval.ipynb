{
 "cells": [
  {
   "cell_type": "markdown",
   "id": "2fd277b6-2bc6-4cdf-8d24-69a56d95f8e3",
   "metadata": {},
   "source": [
    "# Evaluate SR output - hallucations and faithfullness"
   ]
  },
  {
   "cell_type": "code",
   "execution_count": 1,
   "id": "94b6e8fa-c4ea-416f-b874-bb79e65c02ef",
   "metadata": {},
   "outputs": [],
   "source": [
    "import sys\n",
    "\n",
    "sys.path = ['/Users/jonathan/Projects/semantic-retrieval/python/src'] + sys.path"
   ]
  },
  {
   "cell_type": "markdown",
   "id": "c48a1afb-45f3-4e90-8767-8fd720187f14",
   "metadata": {},
   "source": [
    "## Reproduce reports"
   ]
  },
  {
   "cell_type": "code",
   "execution_count": 2,
   "id": "fa7678c1-aded-4f5d-8b99-48a706acc3a7",
   "metadata": {},
   "outputs": [
    {
     "name": "stdout",
     "output_type": "stream",
     "text": [
      "python: can't open file '/Users/jonathan/Projects/semantic-retrieval/python/src/semantic_retrieval/examples/financial_report/python/src/semantic_retrieval/examples/financial_report/generate_report.py': [Errno 2] No such file or directory\n"
     ]
    }
   ],
   "source": [
    "# in semantic-retrieval/\n",
    "# Reproduce net income report\n",
    "!python python/src/semantic_retrieval/examples/financial_report/generate_report.py --retrieval-query=\"annual net income 2022\" --data-extraction-prompt=\"annual net income in 2022\" --overfetch-factor=20"
   ]
  },
  {
   "cell_type": "code",
   "execution_count": 3,
   "id": "e0345000-9feb-41b7-8bca-1341fee7ee2b",
   "metadata": {},
   "outputs": [
    {
     "name": "stdout",
     "output_type": "stream",
     "text": [
      "python: can't open file '/Users/jonathan/Projects/semantic-retrieval/python/src/semantic_retrieval/examples/financial_report/python/src/semantic_retrieval/examples/financial_report/generate_report.py': [Errno 2] No such file or directory\n"
     ]
    }
   ],
   "source": [
    "# Reproduce covid report\n",
    "# in semantic-retrieval/\n",
    "!python python/src/semantic_retrieval/examples/financial_report/generate_report.py --retrieval-query=\"covid 19 impact\" --data-extraction-prompt=\"covid 19 impact\" --overfetch-factor=20 --log-level=DEBUG --client-name=client_a"
   ]
  },
  {
   "cell_type": "markdown",
   "id": "e127aa22-f68d-4a46-aa4d-df412cd64bff",
   "metadata": {},
   "source": [
    "## Example eval input: \n",
    "* Client portfolio database (local CSV)\n",
    "* Intermediate SR results: raw retrieved document chunks\n",
    "* SR final output saved in local files"
   ]
  },
  {
   "cell_type": "code",
   "execution_count": 4,
   "id": "d423fb10-ec9b-4614-b9f6-09a7cff65f58",
   "metadata": {},
   "outputs": [
    {
     "name": "stdout",
     "output_type": "stream",
     "text": [
      "Ready\n"
     ]
    }
   ],
   "source": [
    "import sys\n",
    "import pandas as pd\n",
    "\n",
    "from semantic_retrieval.retrieval.csv_retriever import CSVRetriever\n",
    "from semantic_retrieval.common import types\n",
    "from semantic_retrieval.evaluation.lib import (\n",
    "    LocalFileSystemGenLLMEvalDataset,\n",
    "    evaluate_llm_eval_dataset_local_filesystem,\n",
    "    evaluate_sample_local_filesystem,\n",
    "    local_filesystem_dataset_to_df,\n",
    "    # LocalFileSystemNumericalEvalDatasetConfig,\n",
    "    LocalFileSystemIDSetPairEvalDatasetConfig,\n",
    "    file_contents,\n",
    "    # IDSetPairEvalDataPathMuncher,\n",
    "    IDSetPairEvalDataset,\n",
    ")\n",
    "\n",
    "import json\n",
    "\n",
    "from semantic_retrieval.evaluation.metrics import jaccard_similarity\n",
    "\n",
    "import glob\n",
    "import os\n",
    "\n",
    "\n",
    "\n",
    "\n",
    "ROOT_DATA_DIR = \"../../../../../examples/example_data/financial_report/\"\n",
    "\n",
    "ARTIFACTS = os.path.join(ROOT_DATA_DIR, \"artifacts\")\n",
    "ARTIFACTS\n",
    "\n",
    "print(\"Ready\")"
   ]
  },
  {
   "cell_type": "markdown",
   "id": "f0ae4b40-3184-4d89-a97d-b86fb0dcd6f7",
   "metadata": {},
   "source": [
    "### Define evaluation test cases\n",
    "* The first two test the final output against the raw retrieved data\n",
    "  for faithfullness (LLM hallucination), and the second two test e2e\n",
    "  for faithfullness against the input structured data (portfolio).\n",
    "* In a production system, the equivalent of this\n",
    "    would be written to an RDB system automatically\n",
    "    during retrieval system operation."
   ]
  },
  {
   "cell_type": "markdown",
   "id": "7b590c11-bece-4700-adff-7e35d250e961",
   "metadata": {},
   "source": [
    "## Configuration & Customization"
   ]
  },
  {
   "cell_type": "code",
   "execution_count": 5,
   "id": "ca9611ba-39b6-4d12-9259-8502c7a6d002",
   "metadata": {},
   "outputs": [],
   "source": [
    "# Test data: Define the input and output data to compare."
   ]
  },
  {
   "cell_type": "code",
   "execution_count": 6,
   "id": "b68c200e-93e7-48f4-b896-d36bdcd62964",
   "metadata": {},
   "outputs": [],
   "source": [
    "# In tests 1-2, we will run custom tests of hallucination and faithfullness\n",
    "\n",
    "# comparing the LLM's data input and output.\n",
    "# In tests 3-4, we will run custom tests of correctness against the application's\n",
    "# structured DB (client portfolio).\n",
    "TEST_CASES = [\n",
    "    (name, os.path.join(ARTIFACTS, ip), os.path.join(ARTIFACTS, op))\n",
    "    for name, ip, op in [\n",
    "        (\"net_income_vs_retrieved\", \"raw_retrieved_chunks_10k_net_income.json\", \"portfolio_10k_net_income_report.txt\"),\n",
    "        (\"covid_vs_retrieved\", \"raw_retrieved_chunks_10k_covid.json\", \"portfolio_10k_covid_report.txt\"),\n",
    "    ]\n",
    "] + [\n",
    "    (name, os.path.join(ROOT_DATA_DIR, ip), os.path.join(ARTIFACTS, op))\n",
    "    for name, ip, op in [\n",
    "        (\"net_income_e2e\", \"portfolios/sarmad_portfolio.csv\", \"portfolio_10k_net_income_report.txt\"),\n",
    "        (\"covid_e2e\", \"portfolios/sarmad_portfolio.csv\", \"portfolio_10k_covid_report.txt\"),                    \n",
    "    ]\n",
    "]"
   ]
  },
  {
   "cell_type": "code",
   "execution_count": 7,
   "id": "79f17179-2d11-4ddb-8ea5-ccf46ef15d2b",
   "metadata": {},
   "outputs": [],
   "source": [
    "# Define custom data munchers: \n",
    "# take the raw test input/output pairs,\n",
    "# and return a standard data structure for that pair\n",
    "# which can then be passed to standard (or custom) measurement functions.\n",
    "\n",
    "import re\n",
    "\n",
    "from typing import List, Tuple\n",
    "\n",
    "def parse_raw_re(s_out: str) -> List[Tuple[str, str, str, str, str]]:\n",
    "    try:\n",
    "        return re.findall(\n",
    "            # r\"([A-Z]+)[.*]*([ \\$])([\\d,\\.]+)( *)(million|billion)?\",\n",
    "            r\"([A-Z]+)['\\)].*\\n\",\n",
    "            s_out,\n",
    "            flags=re.IGNORECASE,\n",
    "        )\n",
    "    except Exception as e:\n",
    "        # todo deal with this\n",
    "        logger.warning(\"parse output exn, returning empty list, exn=\", str(e))\n",
    "        return []\n",
    "\n",
    "\n",
    "async def portfolio_data_muncher(\n",
    "    path: str\n",
    "):\n",
    "    portfolio = await CSVRetriever(path)\\\n",
    "        .retrieve_data(None)\n",
    "    \n",
    "\n",
    "    return set(portfolio.keys())\n",
    "    \n",
    "def parse_re_output_to_df(re_output: List[Tuple[str, str, str, str, str]]):\n",
    "    out = []\n",
    "    for row in re_output:\n",
    "        # ticker, _, number, _, units = row\n",
    "        ticker = row\n",
    "        out.append({\"ticker\": ticker})\n",
    "        continue\n",
    "\n",
    "        # NOT NEEDED FOR THIS METRIC\n",
    "        # number_parsed = float(number.replace(\",\", \"\"))\n",
    "        # convert_factor = 1\n",
    "\n",
    "        # if units.lower().startswith(\"b\"):\n",
    "        #     convert_factor = 1000\n",
    "\n",
    "        # out.append(\n",
    "        #     {\"ticker\": ticker, \"value_raw\": number, \"value_millions\": int(number_parsed * convert_factor)}\n",
    "        # )\n",
    "    return pd.DataFrame.from_records(out)\n",
    "\n",
    "\n",
    "def gen_output_to_df(s_out: str) -> pd.DataFrame:\n",
    "    return parse_re_output_to_df(parse_raw_re(s_out))\n",
    "\n",
    "def raw_retrieved_chunks_data_muncher(\n",
    "    path: str\n",
    "):\n",
    "    print(f\"{path=}\")\n",
    "    contents = file_contents(path)\n",
    "    # print(f\"{contents=}\")\n",
    "    obj = json.loads(contents)\n",
    "    return {obj_['company'] for obj_ in obj}\n",
    "\n",
    "\n",
    "\n",
    "def completion_model_output_portfolio_data_muncher(\n",
    "    path: str\n",
    "):\n",
    "    contents = file_contents(path)\n",
    "    df = gen_output_to_df(contents)\n",
    "    # if len(df) == 0:\n",
    "    #     print(f\"HERE, {contents=}\")\n",
    "\n",
    "    return set(df.ticker)\n",
    "\n",
    "        \n",
    "async def test_1_2_data_muncher(\n",
    "    path_input: str,\n",
    "    path_output: str   \n",
    "):    \n",
    "    input_set = raw_retrieved_chunks_data_muncher(path_input)\n",
    "    output_set = completion_model_output_portfolio_data_muncher(path_output)\n",
    "    return IDSetPairEvalDataset(input_set=input_set, output_set=output_set)\n",
    "\n",
    "async def test_3_4_data_muncher(\n",
    "    path_input: str,\n",
    "    path_output: str    \n",
    "):\n",
    "    portfolio_set = await portfolio_data_muncher(path_input)\n",
    "    output_set = completion_model_output_portfolio_data_muncher(path_output) \n",
    "\n",
    "    return IDSetPairEvalDataset(input_set=portfolio_set, output_set=output_set)\n"
   ]
  },
  {
   "cell_type": "markdown",
   "id": "bf5b604b-b6ae-4dc0-96fd-da3847531bfc",
   "metadata": {},
   "source": [
    "## Evaluation and inspection using LM-SR library"
   ]
  },
  {
   "cell_type": "code",
   "execution_count": 8,
   "id": "31d57142-1d41-4629-a852-16fb3e407d54",
   "metadata": {},
   "outputs": [
    {
     "name": "stdout",
     "output_type": "stream",
     "text": [
      "Jaccard similarity, input portfolio vs. portfolio of LLM output.\n",
      "\n",
      "`name` is the test name, and value ranges from 0 (worst) to 1 (perfect).\n",
      "path='../../../../../examples/example_data/financial_report/artifacts/raw_retrieved_chunks_10k_net_income.json'\n",
      "path='../../../../../examples/example_data/financial_report/artifacts/raw_retrieved_chunks_10k_covid.json'\n"
     ]
    },
    {
     "data": {
      "text/html": [
       "<div>\n",
       "<style scoped>\n",
       "    .dataframe tbody tr th:only-of-type {\n",
       "        vertical-align: middle;\n",
       "    }\n",
       "\n",
       "    .dataframe tbody tr th {\n",
       "        vertical-align: top;\n",
       "    }\n",
       "\n",
       "    .dataframe thead th {\n",
       "        text-align: right;\n",
       "    }\n",
       "</style>\n",
       "<table border=\"1\" class=\"dataframe\">\n",
       "  <thead>\n",
       "    <tr style=\"text-align: right;\">\n",
       "      <th></th>\n",
       "      <th>name</th>\n",
       "      <th>value</th>\n",
       "    </tr>\n",
       "  </thead>\n",
       "  <tbody>\n",
       "    <tr>\n",
       "      <th>0</th>\n",
       "      <td>net_income_vs_retrieved</td>\n",
       "      <td>1.0</td>\n",
       "    </tr>\n",
       "    <tr>\n",
       "      <th>1</th>\n",
       "      <td>covid_vs_retrieved</td>\n",
       "      <td>1.0</td>\n",
       "    </tr>\n",
       "    <tr>\n",
       "      <th>2</th>\n",
       "      <td>net_income_e2e</td>\n",
       "      <td>1.0</td>\n",
       "    </tr>\n",
       "    <tr>\n",
       "      <th>3</th>\n",
       "      <td>covid_e2e</td>\n",
       "      <td>1.0</td>\n",
       "    </tr>\n",
       "  </tbody>\n",
       "</table>\n",
       "</div>"
      ],
      "text/plain": [
       "                      name  value\n",
       "0  net_income_vs_retrieved    1.0\n",
       "1       covid_vs_retrieved    1.0\n",
       "2           net_income_e2e    1.0\n",
       "3                covid_e2e    1.0"
      ]
     },
     "execution_count": 8,
     "metadata": {},
     "output_type": "execute_result"
    }
   ],
   "source": [
    "\n",
    "print(\"Jaccard similarity, input portfolio vs. portfolio of LLM output.\")\n",
    "print(\"\\n`name` is the test name, and value ranges from 0 (worst) to 1 (perfect).\")\n",
    "\n",
    "llm_eval_dataset = LocalFileSystemGenLLMEvalDataset.from_list(TEST_CASES)\n",
    "data_munchers = [test_1_2_data_muncher] * 2 + [test_3_4_data_muncher] * 2\n",
    "metrics = [jaccard_similarity] * 4\n",
    "\n",
    "lfs_eval_configs = [\n",
    "    LocalFileSystemIDSetPairEvalDatasetConfig(\n",
    "        fn_path_muncher=data_muncher,\n",
    "        metric=metric\n",
    "    )\n",
    "    for data_muncher, metric in zip(data_munchers, metrics)\n",
    "]\n",
    "    \n",
    "\n",
    "await evaluate_llm_eval_dataset_local_filesystem(llm_eval_dataset, lfs_eval_configs)"
   ]
  },
  {
   "cell_type": "markdown",
   "id": "28b160d2-37cc-4992-b3ea-29aa117765ba",
   "metadata": {},
   "source": [
    "### Optional: peek into the contents manually for better visibility."
   ]
  },
  {
   "cell_type": "code",
   "execution_count": 9,
   "id": "d8ccfd12-909c-408e-89a5-4d3536f7c17f",
   "metadata": {},
   "outputs": [
    {
     "data": {
      "text/html": [
       "<div>\n",
       "<style scoped>\n",
       "    .dataframe tbody tr th:only-of-type {\n",
       "        vertical-align: middle;\n",
       "    }\n",
       "\n",
       "    .dataframe tbody tr th {\n",
       "        vertical-align: top;\n",
       "    }\n",
       "\n",
       "    .dataframe thead th {\n",
       "        text-align: right;\n",
       "    }\n",
       "</style>\n",
       "<table border=\"1\" class=\"dataframe\">\n",
       "  <thead>\n",
       "    <tr style=\"text-align: right;\">\n",
       "      <th></th>\n",
       "      <th>name</th>\n",
       "      <th>data_input</th>\n",
       "      <th>data_output</th>\n",
       "    </tr>\n",
       "  </thead>\n",
       "  <tbody>\n",
       "    <tr>\n",
       "      <th>0</th>\n",
       "      <td>net_income_vs_retrieved</td>\n",
       "      <td>[\\n    {\\n      \"company\": \"AAPL\",\\n      \"details\": \"net (\\\"OI&amp;E\\\") for 2022, 2021 and 2020 was as follows (dollars in millions): | | | | | | | | | | | | | | | | | | | | | | | | | | | | | ---|---...</td>\n",
       "      <td>Report:\\n\\n1. AAPL's annual net income in 2022: $2,825.\\n2. PEP's annual net income in 2022: $86,392.\\n3. AMZN's annual net income in 2022: $1.3 billion.\\n4. JNJ's annual net income in 2022: -$1,7...</td>\n",
       "    </tr>\n",
       "    <tr>\n",
       "      <th>1</th>\n",
       "      <td>covid_vs_retrieved</td>\n",
       "      <td>[\\n    {\\n      \"company\": \"NVDA\",\\n      \"details\": \"The COVID-19 pandemic has affected and could continue to have a material adverse impact on our financial condition and results of operations. ...</td>\n",
       "      <td>1. Apple (AAPL): The COVID-19 pandemic has had a significant impact on Apple's business, with restrictions on travel and business operations, temporary closures of businesses, and supply shortages...</td>\n",
       "    </tr>\n",
       "    <tr>\n",
       "      <th>2</th>\n",
       "      <td>net_income_e2e</td>\n",
       "      <td>Company,Shares,,,,,\\nAAPL,20,,,,,\\nMSFT,,,,,,\\nAMZN,30,,,,,\\nNVDA,100,,,,,\\nTSLA,,,,,,\\nGOOG,,,,,,\\nBRK.B,,,,,,\\nMETA,,,,,,\\nUNH,30,,,,,\\nXOM,,,,,,\\nLLY,,,,,,\\nJPM,,,,,,\\nJNJ,100,,,,,\\nV,,,,,,\\nPG...</td>\n",
       "      <td>Report:\\n\\n1. AAPL's annual net income in 2022: $2,825.\\n2. PEP's annual net income in 2022: $86,392.\\n3. AMZN's annual net income in 2022: $1.3 billion.\\n4. JNJ's annual net income in 2022: -$1,7...</td>\n",
       "    </tr>\n",
       "    <tr>\n",
       "      <th>3</th>\n",
       "      <td>covid_e2e</td>\n",
       "      <td>Company,Shares,,,,,\\nAAPL,20,,,,,\\nMSFT,,,,,,\\nAMZN,30,,,,,\\nNVDA,100,,,,,\\nTSLA,,,,,,\\nGOOG,,,,,,\\nBRK.B,,,,,,\\nMETA,,,,,,\\nUNH,30,,,,,\\nXOM,,,,,,\\nLLY,,,,,,\\nJPM,,,,,,\\nJNJ,100,,,,,\\nV,,,,,,\\nPG...</td>\n",
       "      <td>1. Apple (AAPL): The COVID-19 pandemic has had a significant impact on Apple's business, with restrictions on travel and business operations, temporary closures of businesses, and supply shortages...</td>\n",
       "    </tr>\n",
       "  </tbody>\n",
       "</table>\n",
       "</div>"
      ],
      "text/plain": [
       "                      name  \\\n",
       "0  net_income_vs_retrieved   \n",
       "1       covid_vs_retrieved   \n",
       "2           net_income_e2e   \n",
       "3                covid_e2e   \n",
       "\n",
       "                                                                                                                                                                                                data_input  \\\n",
       "0  [\\n    {\\n      \"company\": \"AAPL\",\\n      \"details\": \"net (\\\"OI&E\\\") for 2022, 2021 and 2020 was as follows (dollars in millions): | | | | | | | | | | | | | | | | | | | | | | | | | | | | | ---|---...   \n",
       "1  [\\n    {\\n      \"company\": \"NVDA\",\\n      \"details\": \"The COVID-19 pandemic has affected and could continue to have a material adverse impact on our financial condition and results of operations. ...   \n",
       "2  Company,Shares,,,,,\\nAAPL,20,,,,,\\nMSFT,,,,,,\\nAMZN,30,,,,,\\nNVDA,100,,,,,\\nTSLA,,,,,,\\nGOOG,,,,,,\\nBRK.B,,,,,,\\nMETA,,,,,,\\nUNH,30,,,,,\\nXOM,,,,,,\\nLLY,,,,,,\\nJPM,,,,,,\\nJNJ,100,,,,,\\nV,,,,,,\\nPG...   \n",
       "3  Company,Shares,,,,,\\nAAPL,20,,,,,\\nMSFT,,,,,,\\nAMZN,30,,,,,\\nNVDA,100,,,,,\\nTSLA,,,,,,\\nGOOG,,,,,,\\nBRK.B,,,,,,\\nMETA,,,,,,\\nUNH,30,,,,,\\nXOM,,,,,,\\nLLY,,,,,,\\nJPM,,,,,,\\nJNJ,100,,,,,\\nV,,,,,,\\nPG...   \n",
       "\n",
       "                                                                                                                                                                                               data_output  \n",
       "0  Report:\\n\\n1. AAPL's annual net income in 2022: $2,825.\\n2. PEP's annual net income in 2022: $86,392.\\n3. AMZN's annual net income in 2022: $1.3 billion.\\n4. JNJ's annual net income in 2022: -$1,7...  \n",
       "1  1. Apple (AAPL): The COVID-19 pandemic has had a significant impact on Apple's business, with restrictions on travel and business operations, temporary closures of businesses, and supply shortages...  \n",
       "2  Report:\\n\\n1. AAPL's annual net income in 2022: $2,825.\\n2. PEP's annual net income in 2022: $86,392.\\n3. AMZN's annual net income in 2022: $1.3 billion.\\n4. JNJ's annual net income in 2022: -$1,7...  \n",
       "3  1. Apple (AAPL): The COVID-19 pandemic has had a significant impact on Apple's business, with restrictions on travel and business operations, temporary closures of businesses, and supply shortages...  "
      ]
     },
     "metadata": {},
     "output_type": "display_data"
    }
   ],
   "source": [
    "df = local_filesystem_dataset_to_df(llm_eval_dataset)\n",
    "\n",
    "pd.set_option(\"display.max_colwidth\", 200)\n",
    "display(df)"
   ]
  },
  {
   "cell_type": "markdown",
   "id": "014e8f20-d25d-4fe1-9e56-56dfe6efb0ba",
   "metadata": {},
   "source": [
    "# STOP HERE - FUTURE DEMO BELOW, WIP."
   ]
  },
  {
   "cell_type": "code",
   "execution_count": 10,
   "id": "22a276a5-23cd-4569-bf11-ad02ca0bcc65",
   "metadata": {},
   "outputs": [
    {
     "ename": "NameError",
     "evalue": "name 'completion_generator_input_data' is not defined",
     "output_type": "error",
     "traceback": [
      "\u001b[0;31m---------------------------------------------------------------------------\u001b[0m",
      "\u001b[0;31mNameError\u001b[0m                                 Traceback (most recent call last)",
      "Cell \u001b[0;32mIn[10], line 1\u001b[0m\n\u001b[0;32m----> 1\u001b[0m input_companies \u001b[38;5;241m=\u001b[39m \u001b[38;5;28mset\u001b[39m([input_record[\u001b[38;5;124m'\u001b[39m\u001b[38;5;124mcompany\u001b[39m\u001b[38;5;124m'\u001b[39m] \u001b[38;5;28;01mfor\u001b[39;00m input_record \u001b[38;5;129;01min\u001b[39;00m completion_generator_input_data])\n\u001b[1;32m      2\u001b[0m output_companies \u001b[38;5;241m=\u001b[39m \u001b[38;5;28mset\u001b[39m(df_report_parsed\u001b[38;5;241m.\u001b[39mticker)\n\u001b[1;32m      4\u001b[0m \u001b[38;5;28;01massert\u001b[39;00m input_companies \u001b[38;5;241m==\u001b[39m output_companies\n",
      "\u001b[0;31mNameError\u001b[0m: name 'completion_generator_input_data' is not defined"
     ]
    }
   ],
   "source": [
    "input_companies = set([input_record['company'] for input_record in completion_generator_input_data])\n",
    "output_companies = set(df_report_parsed.ticker)\n",
    "\n",
    "assert input_companies == output_companies\n",
    "\n",
    "print(\"Pass\")"
   ]
  },
  {
   "cell_type": "markdown",
   "id": "ce55ed6a-b0ec-4af0-b714-17bd499e3157",
   "metadata": {},
   "source": [
    "## Check number faithfulness"
   ]
  },
  {
   "cell_type": "code",
   "execution_count": null,
   "id": "72cb6eb3-bf6e-44f9-95f4-fbe42edb23f1",
   "metadata": {},
   "outputs": [],
   "source": [
    "hallucinations = 0\n",
    "\n",
    "for company, value_raw in df_report_parsed.set_index(\"ticker\").value_raw.to_dict().items():\n",
    "    # print(company, value_raw)\n",
    "    input_data_for_company = [\n",
    "        input_record[\"details\"] for input_record in completion_generator_input_data\n",
    "        if company == input_record[\"company\"]\n",
    "    ][0]\n",
    "\n",
    "    # Remove the period that the LLM might have put on to end the sentence.\n",
    "    if value_raw.rstrip(\".\") not in input_data_for_company:\n",
    "        hallucinations += 1\n",
    "\n",
    "    # print(value_raw)\n",
    "    # print(input_data_for_company)\n",
    "\n",
    "hr = round(hallucinations / len(df_report_parsed), 2)\n",
    "print(f\"Hallucination rate: {100.0 * hr}%\")"
   ]
  },
  {
   "cell_type": "markdown",
   "id": "672645e1-89a5-4d4e-a683-57cc2531ef53",
   "metadata": {},
   "source": [
    "## E2e: Check final output's faithfulness to portfolio (structured table)"
   ]
  },
  {
   "cell_type": "code",
   "execution_count": null,
   "id": "70d39b50-5d9a-4eb8-a05c-2576bdeac815",
   "metadata": {},
   "outputs": [],
   "source": [
    "assert set(df_report_parsed.ticker) == portfolio.keys()\n",
    "\n",
    "print(\"Pass\")"
   ]
  }
 ],
 "metadata": {
  "kernelspec": {
   "display_name": "semantic_retrieval",
   "language": "python",
   "name": "semantic_retrieval"
  },
  "language_info": {
   "codemirror_mode": {
    "name": "ipython",
    "version": 3
   },
   "file_extension": ".py",
   "mimetype": "text/x-python",
   "name": "python",
   "nbconvert_exporter": "python",
   "pygments_lexer": "ipython3",
   "version": "3.11.5"
  }
 },
 "nbformat": 4,
 "nbformat_minor": 5
}
