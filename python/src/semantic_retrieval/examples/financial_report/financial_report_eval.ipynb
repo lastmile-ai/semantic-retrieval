{
 "cells": [
  {
   "cell_type": "code",
   "execution_count": 1,
   "id": "08255794-3960-4f6f-8003-48b83460d666",
   "metadata": {},
   "outputs": [],
   "source": [
    "import sys\n",
    "import pandas as pd\n",
    "\n",
    "\n",
    "sys.path = ['/Users/jonathan/Projects/semantic-retrieval/python/src'] + sys.path"
   ]
  },
  {
   "cell_type": "code",
   "execution_count": 2,
   "id": "8ec4ab8b-3653-4f65-909a-ddcf6d0aa736",
   "metadata": {},
   "outputs": [
    {
     "name": "stdout",
     "output_type": "stream",
     "text": [
      "Hello, world\n"
     ]
    }
   ],
   "source": [
    "from semantic_retrieval.evaluation.metrics import accuracy_metric, SampleEvalDataset\n",
    "\n",
    "accuracy_metric(\n",
    "    SampleEvalDataset(\n",
    "    output=[1,2,3], \n",
    "    ground_truth=[1,2,4]\n",
    "    )\n",
    ")\n",
    "\n",
    "print(\"Hello, world\")"
   ]
  },
  {
   "cell_type": "markdown",
   "id": "2fd277b6-2bc6-4cdf-8d24-69a56d95f8e3",
   "metadata": {},
   "source": [
    "# Hallucinations: compare gen LLM output to input data"
   ]
  },
  {
   "cell_type": "code",
   "execution_count": 3,
   "id": "e50d543b-8fbb-45aa-8f67-9dc7c0356f9d",
   "metadata": {},
   "outputs": [
    {
     "name": "stdout",
     "output_type": "stream",
     "text": [
      "Report:\n",
      "\n",
      "1. AAPL's annual net income in 2022: $2,825.\n",
      "2. PEP's annual net income in 2022: $86,392.\n",
      "3. AMZN's annual net income in 2022: $1.3 billion.\n",
      "4. JNJ's annual net income in 2022: -$1,796\n",
      "5. UNH's annual net income in 2022: $20,639.\n",
      "6. NVDA's annual net income in 2022: $4,368.\n",
      "7. MRK's annual net income in 2022: $16,444.\n"
     ]
    }
   ],
   "source": [
    "from semantic_retrieval.examples.financial_report.evaluate_report import file_contents\n",
    "\n",
    "report = file_contents(\"../../../../../examples/example_data/financial_report/portfolio_10k_net_income_report.txt\")\n",
    "print(report)"
   ]
  },
  {
   "cell_type": "code",
   "execution_count": 7,
   "id": "3e4d3e9b-ffac-4a58-a89d-e20d65c489fa",
   "metadata": {},
   "outputs": [
    {
     "data": {
      "text/html": [
       "<div>\n",
       "<style scoped>\n",
       "    .dataframe tbody tr th:only-of-type {\n",
       "        vertical-align: middle;\n",
       "    }\n",
       "\n",
       "    .dataframe tbody tr th {\n",
       "        vertical-align: top;\n",
       "    }\n",
       "\n",
       "    .dataframe thead th {\n",
       "        text-align: right;\n",
       "    }\n",
       "</style>\n",
       "<table border=\"1\" class=\"dataframe\">\n",
       "  <thead>\n",
       "    <tr style=\"text-align: right;\">\n",
       "      <th></th>\n",
       "      <th>ticker</th>\n",
       "      <th>value_raw</th>\n",
       "      <th>value_millions</th>\n",
       "    </tr>\n",
       "  </thead>\n",
       "  <tbody>\n",
       "    <tr>\n",
       "      <th>0</th>\n",
       "      <td>AAPL</td>\n",
       "      <td>2,825.</td>\n",
       "      <td>2825</td>\n",
       "    </tr>\n",
       "    <tr>\n",
       "      <th>1</th>\n",
       "      <td>PEP</td>\n",
       "      <td>86,392.</td>\n",
       "      <td>86392</td>\n",
       "    </tr>\n",
       "    <tr>\n",
       "      <th>2</th>\n",
       "      <td>AMZN</td>\n",
       "      <td>1.3</td>\n",
       "      <td>1300</td>\n",
       "    </tr>\n",
       "    <tr>\n",
       "      <th>3</th>\n",
       "      <td>JNJ</td>\n",
       "      <td>1,796</td>\n",
       "      <td>1796</td>\n",
       "    </tr>\n",
       "    <tr>\n",
       "      <th>4</th>\n",
       "      <td>UNH</td>\n",
       "      <td>20,639.</td>\n",
       "      <td>20639</td>\n",
       "    </tr>\n",
       "    <tr>\n",
       "      <th>5</th>\n",
       "      <td>NVDA</td>\n",
       "      <td>4,368.</td>\n",
       "      <td>4368</td>\n",
       "    </tr>\n",
       "    <tr>\n",
       "      <th>6</th>\n",
       "      <td>MRK</td>\n",
       "      <td>16,444.</td>\n",
       "      <td>16444</td>\n",
       "    </tr>\n",
       "  </tbody>\n",
       "</table>\n",
       "</div>"
      ],
      "text/plain": [
       "  ticker value_raw  value_millions\n",
       "0   AAPL    2,825.            2825\n",
       "1    PEP   86,392.           86392\n",
       "2   AMZN       1.3            1300\n",
       "3    JNJ     1,796            1796\n",
       "4    UNH   20,639.           20639\n",
       "5   NVDA    4,368.            4368\n",
       "6    MRK   16,444.           16444"
      ]
     },
     "execution_count": 7,
     "metadata": {},
     "output_type": "execute_result"
    }
   ],
   "source": [
    "# Simple regexp parsing from LLM's structured output\n",
    "\n",
    "from semantic_retrieval.examples.financial_report.evaluate_report import gen_output_to_df\n",
    "    \n",
    "df_report_parsed = gen_output_to_df(report)\n",
    "df_report_parsed"
   ]
  },
  {
   "cell_type": "code",
   "execution_count": 10,
   "id": "2fe20be8-8a02-4896-aa34-0fa8b9ce98cf",
   "metadata": {},
   "outputs": [
    {
     "name": "stdout",
     "output_type": "stream",
     "text": [
      "{'company': 'AAPL', 'details': 'net (\"OI&E\") for 2022, 2021 and 2020 was as follows (dollars in millions): | | | | | | | | | | | | | | | | | | | | | | | | | | | | | ---|---|---|---|---|---|---|---|---|---|---|---|---|---|---|---|---|---|---|---|---|---|---|---|---|---|---|---|---|--- | 2022| | Change| | 2021| | Change| | 2020 Interest and dividend income | $| 2,825 | | | | | $| 2,843 | | | | | $| 3,763 | Interest expense | (2,931)| | | | | (2,645)| | | | | (2,873)| Other income/(expense), net| (228)| | | | | 60 | | | | | (87)|'}\n"
     ]
    }
   ],
   "source": [
    "import json\n",
    "\n",
    "gen_model_input_data = json.loads(file_contents(\"../../../../../examples/example_data/financial_report/artifacts/raw_retrieved_chunks_10k.json\"))\n",
    "\n",
    "print(gen_model_input_data[0])"
   ]
  },
  {
   "cell_type": "markdown",
   "id": "eebff3c3-c83d-4ec5-bf3a-c637fd4023c2",
   "metadata": {},
   "source": [
    "## Check ticker agreement"
   ]
  },
  {
   "cell_type": "code",
   "execution_count": null,
   "id": "22a276a5-23cd-4569-bf11-ad02ca0bcc65",
   "metadata": {},
   "outputs": [],
   "source": [
    "input_companies = set([input_record['company'] for input_record in gen_model_input_data])\n",
    "output_companies = set(df_report_parsed.ticker)\n",
    "\n",
    "assert input_companies == output_companies\n",
    "\n",
    "print(\"Pass\")"
   ]
  },
  {
   "cell_type": "markdown",
   "id": "ce55ed6a-b0ec-4af0-b714-17bd499e3157",
   "metadata": {},
   "source": [
    "## Check number faithfulness"
   ]
  },
  {
   "cell_type": "code",
   "execution_count": 25,
   "id": "72cb6eb3-bf6e-44f9-95f4-fbe42edb23f1",
   "metadata": {},
   "outputs": [
    {
     "name": "stdout",
     "output_type": "stream",
     "text": [
      "Hallucination rate: 0.0%\n"
     ]
    }
   ],
   "source": [
    "hallucinations = 0\n",
    "\n",
    "for company, value_raw in df_report_parsed.set_index(\"ticker\").value_raw.to_dict().items():\n",
    "    # print(company, value_raw)\n",
    "    input_data_for_company = [\n",
    "        input_record[\"details\"] for input_record in gen_model_input_data\n",
    "        if company == input_record[\"company\"]\n",
    "    ][0]\n",
    "\n",
    "    # Remove the period that the LLM might have put on to end the sentence.\n",
    "    if value_raw.rstrip(\".\") not in input_data_for_company:\n",
    "        hallucinations += 1\n",
    "\n",
    "    # print(value_raw)\n",
    "    # print(input_data_for_company)\n",
    "\n",
    "hr = round(hallucinations / len(df_report_parsed), 2)\n",
    "print(f\"Hallucination rate: {100.0 * hr}%\")"
   ]
  },
  {
   "cell_type": "markdown",
   "id": "672645e1-89a5-4d4e-a683-57cc2531ef53",
   "metadata": {},
   "source": [
    "## E2e: Check final output's faithfulness to portfolio (structured table)"
   ]
  },
  {
   "cell_type": "code",
   "execution_count": 37,
   "id": "be1e8c08-163e-436c-b426-f94adfaf702f",
   "metadata": {},
   "outputs": [
    {
     "data": {
      "text/plain": [
       "{'AAPL': 20.0,\n",
       " 'AMZN': 30.0,\n",
       " 'NVDA': 100.0,\n",
       " 'UNH': 30.0,\n",
       " 'JNJ': 100.0,\n",
       " 'MRK': 40.0,\n",
       " 'PEP': 200.0}"
      ]
     },
     "execution_count": 37,
     "metadata": {},
     "output_type": "execute_result"
    }
   ],
   "source": [
    "from semantic_retrieval.retrieval.csv_retriever import CSVRetriever\n",
    "\n",
    "portfolio = await CSVRetriever(\"../../../../../examples/example_data/financial_report/portfolios/client_a_portfolio.csv\")\\\n",
    "    .retrieve_data(None)\n",
    "\n",
    "portfolio"
   ]
  },
  {
   "cell_type": "code",
   "execution_count": null,
   "id": "3beaa6f8-fcd1-475e-b92c-224ddb024ce7",
   "metadata": {},
   "outputs": [],
   "source": []
  },
  {
   "cell_type": "code",
   "execution_count": 38,
   "id": "70d39b50-5d9a-4eb8-a05c-2576bdeac815",
   "metadata": {},
   "outputs": [
    {
     "name": "stdout",
     "output_type": "stream",
     "text": [
      "Pass\n"
     ]
    }
   ],
   "source": [
    "assert set(df_report_parsed.ticker) == portfolio.keys()\n",
    "\n",
    "print(\"Pass\")"
   ]
  }
 ],
 "metadata": {
  "kernelspec": {
   "display_name": "semantic_retrieval",
   "language": "python",
   "name": "semantic_retrieval"
  },
  "language_info": {
   "codemirror_mode": {
    "name": "ipython",
    "version": 3
   },
   "file_extension": ".py",
   "mimetype": "text/x-python",
   "name": "python",
   "nbconvert_exporter": "python",
   "pygments_lexer": "ipython3",
   "version": "3.11.5"
  }
 },
 "nbformat": 4,
 "nbformat_minor": 5
}
