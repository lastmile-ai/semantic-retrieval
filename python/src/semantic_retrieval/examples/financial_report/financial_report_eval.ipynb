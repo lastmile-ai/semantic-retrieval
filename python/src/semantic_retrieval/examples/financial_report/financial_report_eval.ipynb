{
 "cells": [
  {
   "cell_type": "markdown",
   "id": "2fd277b6-2bc6-4cdf-8d24-69a56d95f8e3",
   "metadata": {},
   "source": [
    "# Evaluate SR output - hallucations and faithfullness"
   ]
  },
  {
   "cell_type": "code",
   "execution_count": 1,
   "id": "94b6e8fa-c4ea-416f-b874-bb79e65c02ef",
   "metadata": {},
   "outputs": [],
   "source": [
    "import sys\n",
    "\n",
    "sys.path = ['/Users/jonathan/Projects/semantic-retrieval/python/src'] + sys.path"
   ]
  },
  {
   "cell_type": "markdown",
   "id": "c48a1afb-45f3-4e90-8767-8fd720187f14",
   "metadata": {},
   "source": [
    "## Reproduce reports"
   ]
  },
  {
   "cell_type": "code",
   "execution_count": 2,
   "id": "fa7678c1-aded-4f5d-8b99-48a706acc3a7",
   "metadata": {},
   "outputs": [
    {
     "name": "stdout",
     "output_type": "stream",
     "text": [
      "python: can't open file '/Users/jonathan/Projects/semantic-retrieval/python/src/semantic_retrieval/examples/financial_report/python/src/semantic_retrieval/examples/financial_report/generate_report.py': [Errno 2] No such file or directory\n"
     ]
    }
   ],
   "source": [
    "# in semantic-retrieval/\n",
    "# Reproduce net income report\n",
    "!python python/src/semantic_retrieval/examples/financial_report/generate_report.py --retrieval-query=\"annual net income 2022\" --data-extraction-prompt=\"annual net income in 2022\" --overfetch-factor=20"
   ]
  },
  {
   "cell_type": "code",
   "execution_count": 3,
   "id": "e0345000-9feb-41b7-8bca-1341fee7ee2b",
   "metadata": {},
   "outputs": [
    {
     "name": "stdout",
     "output_type": "stream",
     "text": [
      "python: can't open file '/Users/jonathan/Projects/semantic-retrieval/python/src/semantic_retrieval/examples/financial_report/python/src/semantic_retrieval/examples/financial_report/generate_report.py': [Errno 2] No such file or directory\n"
     ]
    }
   ],
   "source": [
    "# Reproduce covid report\n",
    "# in semantic-retrieval/\n",
    "!python python/src/semantic_retrieval/examples/financial_report/generate_report.py --retrieval-query=\"covid 19 impact\" --data-extraction-prompt=\"covid 19 impact\" --overfetch-factor=20 --log-level=DEBUG --client-name=client_a"
   ]
  },
  {
   "cell_type": "markdown",
   "id": "e127aa22-f68d-4a46-aa4d-df412cd64bff",
   "metadata": {},
   "source": [
    "## Example eval input: \n",
    "* Client portfolio database (local CSV)\n",
    "* Intermediate SR results: raw retrieved document chunks\n",
    "* SR final output saved in local files"
   ]
  },
  {
   "cell_type": "code",
   "execution_count": 16,
   "id": "d423fb10-ec9b-4614-b9f6-09a7cff65f58",
   "metadata": {},
   "outputs": [],
   "source": [
    "import sys\n",
    "import pandas as pd\n",
    "\n",
    "from semantic_retrieval.examples.financial_report.evaluate_report import file_contents\n",
    "from semantic_retrieval.retrieval.csv_retriever import CSVRetriever\n",
    "from semantic_retrieval.common import types\n",
    "from semantic_retrieval.evaluation.lib import (\n",
    "    LocalFileSystemGenLLMEvalDataset,\n",
    "    SampleEvalDataset,\n",
    "    local_filesystem_dataset_to_df,\n",
    ")\n",
    "\n",
    "import glob\n",
    "import os\n",
    "\n",
    "\n",
    "\n",
    "\n",
    "ROOT_DATA_DIR = \"../../../../../examples/example_data/financial_report/\"\n",
    "\n",
    "ARTIFACTS = os.path.join(ROOT_DATA_DIR, \"artifacts\")"
   ]
  },
  {
   "cell_type": "markdown",
   "id": "f0ae4b40-3184-4d89-a97d-b86fb0dcd6f7",
   "metadata": {},
   "source": [
    "### Define evaluation test cases\n",
    "* The first two test the final output against the raw retrieved data\n",
    "  for faithfullness (LLM hallucination), and the second two test e2e\n",
    "  for faithfullness against the input structured data (portfolio).\n",
    "* In a production system, the equivalent of this\n",
    "    would be written to an RDB system automatically\n",
    "    during retrieval system operation."
   ]
  },
  {
   "cell_type": "markdown",
   "id": "7b590c11-bece-4700-adff-7e35d250e961",
   "metadata": {},
   "source": [
    "## Configuration & Customization"
   ]
  },
  {
   "cell_type": "code",
   "execution_count": 23,
   "id": "b68c200e-93e7-48f4-b896-d36bdcd62964",
   "metadata": {},
   "outputs": [],
   "source": [
    "TEST_CASES = [\n",
    "    (name, os.path.join(ARTIFACTS, ip), os.path.join(ARTIFACTS, op))\n",
    "    for name, ip, op in [\n",
    "        (\"net_income_vs_retrieved\", \"raw_retrieved_chunks_10k_net_income.json\", \"portfolio_10k_net_income_report.txt\"),\n",
    "        (\"covid_vs_retrieved\", \"raw_retrieved_chunks_10k_covid.json\", \"portfolio_10k_covid_report.txt\"),\n",
    "    ]\n",
    "] + [\n",
    "    (name, os.path.join(ROOT_DATA_DIR, ip), os.path.join(ARTIFACTS, op))\n",
    "    for name, ip, op in [\n",
    "        (\"net_income_e2e\", \"portfolios/client_a_portfolio.csv\", \"portfolio_10k_net_income_report.txt\"),\n",
    "        (\"covid_e2e\", \"portfolios/client_a_portfolio.csv\", \"portfolio_10k_covid_report.txt\"),                    \n",
    "    ]\n",
    "]"
   ]
  },
  {
   "cell_type": "code",
   "execution_count": 6,
   "id": "79f17179-2d11-4ddb-8ea5-ccf46ef15d2b",
   "metadata": {},
   "outputs": [],
   "source": [
    "# Customize the raw data -> structured data step\n",
    "def portfolio_test_path_muncher(in_content, out_content) -> PortfolioLLMEvalStructuredSample:\n",
    "    pass\n",
    "\n",
    "def portfolio_faithfullness(portfolio_structured_dataset: PortfolioLLMEvalStructuredSample) -> bool:\n",
    "    pass\n",
    "\n"
   ]
  },
  {
   "cell_type": "markdown",
   "id": "bf5b604b-b6ae-4dc0-96fd-da3847531bfc",
   "metadata": {},
   "source": [
    "## Evaluation and inspection using LM-SR library"
   ]
  },
  {
   "cell_type": "code",
   "execution_count": 7,
   "id": "d8a3966c-ef09-4ce7-b175-7f6767d2e012",
   "metadata": {},
   "outputs": [
    {
     "data": {
      "text/plain": [
       "{'AAPL': 20.0,\n",
       " 'AMZN': 30.0,\n",
       " 'NVDA': 100.0,\n",
       " 'UNH': 30.0,\n",
       " 'JNJ': 100.0,\n",
       " 'MRK': 40.0,\n",
       " 'PEP': 200.0}"
      ]
     },
     "execution_count": 7,
     "metadata": {},
     "output_type": "execute_result"
    }
   ],
   "source": [
    "portfolio = await CSVRetriever(\"../../../../../examples/example_data/financial_report/portfolios/client_a_portfolio.csv\")\\\n",
    "    .retrieve_data(None)\n",
    "\n",
    "portfolio"
   ]
  },
  {
   "cell_type": "code",
   "execution_count": 25,
   "id": "22536e6b-6c8b-43c9-90d5-c620b438a3d4",
   "metadata": {},
   "outputs": [],
   "source": [
    "llm_eval_dataset = LocalFileSystemGenLLMEvalDataset.from_list(TEST_CASES)"
   ]
  },
  {
   "cell_type": "markdown",
   "id": "28b160d2-37cc-4992-b3ea-29aa117765ba",
   "metadata": {},
   "source": [
    "### Optional: peek into the contents manually for better visibility."
   ]
  },
  {
   "cell_type": "code",
   "execution_count": 26,
   "id": "d8ccfd12-909c-408e-89a5-4d3536f7c17f",
   "metadata": {},
   "outputs": [
    {
     "data": {
      "text/html": [
       "<div>\n",
       "<style scoped>\n",
       "    .dataframe tbody tr th:only-of-type {\n",
       "        vertical-align: middle;\n",
       "    }\n",
       "\n",
       "    .dataframe tbody tr th {\n",
       "        vertical-align: top;\n",
       "    }\n",
       "\n",
       "    .dataframe thead th {\n",
       "        text-align: right;\n",
       "    }\n",
       "</style>\n",
       "<table border=\"1\" class=\"dataframe\">\n",
       "  <thead>\n",
       "    <tr style=\"text-align: right;\">\n",
       "      <th></th>\n",
       "      <th>name</th>\n",
       "      <th>data_input</th>\n",
       "      <th>data_output</th>\n",
       "    </tr>\n",
       "  </thead>\n",
       "  <tbody>\n",
       "    <tr>\n",
       "      <th>0</th>\n",
       "      <td>net_income_vs_retrieved</td>\n",
       "      <td>[\\n    {\\n      \"company\": \"AAPL\",\\n      \"details\": \"net (\\\"OI&amp;E\\\") for 2022, 2021 and 2020 was as follows (dollars in millions): | | | | | | | | | | | | | | | | | | | | | | | | | | | | | ---|---...</td>\n",
       "      <td>Report:\\n\\n1. AAPL's annual net income in 2022: $2,825.\\n2. PEP's annual net income in 2022: $86,392.\\n3. AMZN's annual net income in 2022: $1.3 billion.\\n4. JNJ's annual net income in 2022: -$1,7...</td>\n",
       "    </tr>\n",
       "    <tr>\n",
       "      <th>1</th>\n",
       "      <td>covid_vs_retrieved</td>\n",
       "      <td>[\\n    {\\n      \"company\": \"NVDA\",\\n      \"details\": \"The COVID-19 pandemic has affected and could continue to have a material adverse impact on our financial condition and results of operations. ...</td>\n",
       "      <td>1. Apple (AAPL): The COVID-19 pandemic has had a significant impact on Apple's business, with restrictions on travel and business operations, temporary closures of businesses, and supply shortages...</td>\n",
       "    </tr>\n",
       "    <tr>\n",
       "      <th>2</th>\n",
       "      <td>net_income_e2e</td>\n",
       "      <td>Company,Shares,,,,,\\nAAPL,20,,,,,\\nMSFT,,,,,,\\nAMZN,30,,,,,\\nNVDA,100,,,,,\\nTSLA,,,,,,\\nGOOG,,,,,,\\nBRK.B,,,,,,\\nMETA,,,,,,\\nUNH,30,,,,,\\nXOM,,,,,,\\nLLY,,,,,,\\nJPM,,,,,,\\nJNJ,100,,,,,\\nV,,,,,,\\nPG...</td>\n",
       "      <td>Report:\\n\\n1. AAPL's annual net income in 2022: $2,825.\\n2. PEP's annual net income in 2022: $86,392.\\n3. AMZN's annual net income in 2022: $1.3 billion.\\n4. JNJ's annual net income in 2022: -$1,7...</td>\n",
       "    </tr>\n",
       "    <tr>\n",
       "      <th>3</th>\n",
       "      <td>covid_e2e</td>\n",
       "      <td>Company,Shares,,,,,\\nAAPL,20,,,,,\\nMSFT,,,,,,\\nAMZN,30,,,,,\\nNVDA,100,,,,,\\nTSLA,,,,,,\\nGOOG,,,,,,\\nBRK.B,,,,,,\\nMETA,,,,,,\\nUNH,30,,,,,\\nXOM,,,,,,\\nLLY,,,,,,\\nJPM,,,,,,\\nJNJ,100,,,,,\\nV,,,,,,\\nPG...</td>\n",
       "      <td>1. Apple (AAPL): The COVID-19 pandemic has had a significant impact on Apple's business, with restrictions on travel and business operations, temporary closures of businesses, and supply shortages...</td>\n",
       "    </tr>\n",
       "  </tbody>\n",
       "</table>\n",
       "</div>"
      ],
      "text/plain": [
       "                      name  \\\n",
       "0  net_income_vs_retrieved   \n",
       "1       covid_vs_retrieved   \n",
       "2           net_income_e2e   \n",
       "3                covid_e2e   \n",
       "\n",
       "                                                                                                                                                                                                data_input  \\\n",
       "0  [\\n    {\\n      \"company\": \"AAPL\",\\n      \"details\": \"net (\\\"OI&E\\\") for 2022, 2021 and 2020 was as follows (dollars in millions): | | | | | | | | | | | | | | | | | | | | | | | | | | | | | ---|---...   \n",
       "1  [\\n    {\\n      \"company\": \"NVDA\",\\n      \"details\": \"The COVID-19 pandemic has affected and could continue to have a material adverse impact on our financial condition and results of operations. ...   \n",
       "2  Company,Shares,,,,,\\nAAPL,20,,,,,\\nMSFT,,,,,,\\nAMZN,30,,,,,\\nNVDA,100,,,,,\\nTSLA,,,,,,\\nGOOG,,,,,,\\nBRK.B,,,,,,\\nMETA,,,,,,\\nUNH,30,,,,,\\nXOM,,,,,,\\nLLY,,,,,,\\nJPM,,,,,,\\nJNJ,100,,,,,\\nV,,,,,,\\nPG...   \n",
       "3  Company,Shares,,,,,\\nAAPL,20,,,,,\\nMSFT,,,,,,\\nAMZN,30,,,,,\\nNVDA,100,,,,,\\nTSLA,,,,,,\\nGOOG,,,,,,\\nBRK.B,,,,,,\\nMETA,,,,,,\\nUNH,30,,,,,\\nXOM,,,,,,\\nLLY,,,,,,\\nJPM,,,,,,\\nJNJ,100,,,,,\\nV,,,,,,\\nPG...   \n",
       "\n",
       "                                                                                                                                                                                               data_output  \n",
       "0  Report:\\n\\n1. AAPL's annual net income in 2022: $2,825.\\n2. PEP's annual net income in 2022: $86,392.\\n3. AMZN's annual net income in 2022: $1.3 billion.\\n4. JNJ's annual net income in 2022: -$1,7...  \n",
       "1  1. Apple (AAPL): The COVID-19 pandemic has had a significant impact on Apple's business, with restrictions on travel and business operations, temporary closures of businesses, and supply shortages...  \n",
       "2  Report:\\n\\n1. AAPL's annual net income in 2022: $2,825.\\n2. PEP's annual net income in 2022: $86,392.\\n3. AMZN's annual net income in 2022: $1.3 billion.\\n4. JNJ's annual net income in 2022: -$1,7...  \n",
       "3  1. Apple (AAPL): The COVID-19 pandemic has had a significant impact on Apple's business, with restrictions on travel and business operations, temporary closures of businesses, and supply shortages...  "
      ]
     },
     "metadata": {},
     "output_type": "display_data"
    }
   ],
   "source": [
    "df = local_filesystem_dataset_to_df(llm_eval_dataset)\n",
    "\n",
    "pd.set_option(\"display.max_colwidth\", 200)\n",
    "display(df)"
   ]
  },
  {
   "cell_type": "code",
   "execution_count": null,
   "id": "6392838f-10d9-4842-8c53-104a31abcfc7",
   "metadata": {},
   "outputs": [],
   "source": []
  },
  {
   "cell_type": "code",
   "execution_count": 10,
   "id": "3e4d3e9b-ffac-4a58-a89d-e20d65c489fa",
   "metadata": {},
   "outputs": [
    {
     "ename": "NameError",
     "evalue": "name 'report' is not defined",
     "output_type": "error",
     "traceback": [
      "\u001b[0;31m---------------------------------------------------------------------------\u001b[0m",
      "\u001b[0;31mNameError\u001b[0m                                 Traceback (most recent call last)",
      "Cell \u001b[0;32mIn[10], line 5\u001b[0m\n\u001b[1;32m      1\u001b[0m \u001b[38;5;66;03m# Simple regexp parsing from LLM's structured output\u001b[39;00m\n\u001b[1;32m      3\u001b[0m \u001b[38;5;28;01mfrom\u001b[39;00m \u001b[38;5;21;01msemantic_retrieval\u001b[39;00m\u001b[38;5;21;01m.\u001b[39;00m\u001b[38;5;21;01mexamples\u001b[39;00m\u001b[38;5;21;01m.\u001b[39;00m\u001b[38;5;21;01mfinancial_report\u001b[39;00m\u001b[38;5;21;01m.\u001b[39;00m\u001b[38;5;21;01mevaluate_report\u001b[39;00m \u001b[38;5;28;01mimport\u001b[39;00m gen_output_to_df\n\u001b[0;32m----> 5\u001b[0m df_report_parsed \u001b[38;5;241m=\u001b[39m gen_output_to_df(report)\n\u001b[1;32m      6\u001b[0m df_report_parsed\n",
      "\u001b[0;31mNameError\u001b[0m: name 'report' is not defined"
     ]
    }
   ],
   "source": [
    "# Simple regexp parsing from LLM's structured output\n",
    "\n",
    "from semantic_retrieval.examples.financial_report.evaluate_report import gen_output_to_df\n",
    "    \n",
    "df_report_parsed = gen_output_to_df(report)\n",
    "df_report_parsed"
   ]
  },
  {
   "cell_type": "code",
   "execution_count": null,
   "id": "2fe20be8-8a02-4896-aa34-0fa8b9ce98cf",
   "metadata": {},
   "outputs": [],
   "source": [
    "import json\n",
    "\n",
    "gen_model_input_data = json.loads(file_contents(\"../../../../../examples/example_data/financial_report/artifacts/raw_retrieved_chunks_10k.json\"))\n",
    "\n",
    "print(gen_model_input_data[0])"
   ]
  },
  {
   "cell_type": "markdown",
   "id": "eebff3c3-c83d-4ec5-bf3a-c637fd4023c2",
   "metadata": {},
   "source": [
    "## Check ticker agreement"
   ]
  },
  {
   "cell_type": "code",
   "execution_count": null,
   "id": "22a276a5-23cd-4569-bf11-ad02ca0bcc65",
   "metadata": {},
   "outputs": [],
   "source": [
    "input_companies = set([input_record['company'] for input_record in gen_model_input_data])\n",
    "output_companies = set(df_report_parsed.ticker)\n",
    "\n",
    "assert input_companies == output_companies\n",
    "\n",
    "print(\"Pass\")"
   ]
  },
  {
   "cell_type": "markdown",
   "id": "ce55ed6a-b0ec-4af0-b714-17bd499e3157",
   "metadata": {},
   "source": [
    "## Check number faithfulness"
   ]
  },
  {
   "cell_type": "code",
   "execution_count": null,
   "id": "72cb6eb3-bf6e-44f9-95f4-fbe42edb23f1",
   "metadata": {},
   "outputs": [],
   "source": [
    "hallucinations = 0\n",
    "\n",
    "for company, value_raw in df_report_parsed.set_index(\"ticker\").value_raw.to_dict().items():\n",
    "    # print(company, value_raw)\n",
    "    input_data_for_company = [\n",
    "        input_record[\"details\"] for input_record in gen_model_input_data\n",
    "        if company == input_record[\"company\"]\n",
    "    ][0]\n",
    "\n",
    "    # Remove the period that the LLM might have put on to end the sentence.\n",
    "    if value_raw.rstrip(\".\") not in input_data_for_company:\n",
    "        hallucinations += 1\n",
    "\n",
    "    # print(value_raw)\n",
    "    # print(input_data_for_company)\n",
    "\n",
    "hr = round(hallucinations / len(df_report_parsed), 2)\n",
    "print(f\"Hallucination rate: {100.0 * hr}%\")"
   ]
  },
  {
   "cell_type": "markdown",
   "id": "672645e1-89a5-4d4e-a683-57cc2531ef53",
   "metadata": {},
   "source": [
    "## E2e: Check final output's faithfulness to portfolio (structured table)"
   ]
  },
  {
   "cell_type": "code",
   "execution_count": null,
   "id": "70d39b50-5d9a-4eb8-a05c-2576bdeac815",
   "metadata": {},
   "outputs": [],
   "source": [
    "assert set(df_report_parsed.ticker) == portfolio.keys()\n",
    "\n",
    "print(\"Pass\")"
   ]
  }
 ],
 "metadata": {
  "kernelspec": {
   "display_name": "semantic_retrieval",
   "language": "python",
   "name": "semantic_retrieval"
  },
  "language_info": {
   "codemirror_mode": {
    "name": "ipython",
    "version": 3
   },
   "file_extension": ".py",
   "mimetype": "text/x-python",
   "name": "python",
   "nbconvert_exporter": "python",
   "pygments_lexer": "ipython3",
   "version": "3.11.5"
  }
 },
 "nbformat": 4,
 "nbformat_minor": 5
}
