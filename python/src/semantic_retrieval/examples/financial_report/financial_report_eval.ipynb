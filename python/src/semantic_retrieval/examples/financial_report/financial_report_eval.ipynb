{
 "cells": [
  {
   "cell_type": "code",
   "execution_count": 3,
   "id": "08255794-3960-4f6f-8003-48b83460d666",
   "metadata": {},
   "outputs": [],
   "source": [
    "import sys\n",
    "\n",
    "\n",
    "sys.path = ['/Users/jonathan/Projects/semantic-retrieval/python/src'] + sys.path"
   ]
  },
  {
   "cell_type": "code",
   "execution_count": 11,
   "id": "8ec4ab8b-3653-4f65-909a-ddcf6d0aa736",
   "metadata": {},
   "outputs": [
    {
     "name": "stdout",
     "output_type": "stream",
     "text": [
      "Hello, world\n"
     ]
    }
   ],
   "source": [
    "from semantic_retrieval.evaluation.metrics import accuracy_metric, SampleEvalDataset\n",
    "\n",
    "accuracy_metric(SampleEvalDataset(\n",
    "    output=[1,2,3], \n",
    "    ground_truth=[1,2,4])\n",
    "               )\n",
    "\n",
    "print(\"Hello, world\")"
   ]
  }
 ],
 "metadata": {
  "kernelspec": {
   "display_name": "semantic_retrieval",
   "language": "python",
   "name": "semantic_retrieval"
  },
  "language_info": {
   "codemirror_mode": {
    "name": "ipython",
    "version": 3
   },
   "file_extension": ".py",
   "mimetype": "text/x-python",
   "name": "python",
   "nbconvert_exporter": "python",
   "pygments_lexer": "ipython3",
   "version": "3.11.5"
  }
 },
 "nbformat": 4,
 "nbformat_minor": 5
}
