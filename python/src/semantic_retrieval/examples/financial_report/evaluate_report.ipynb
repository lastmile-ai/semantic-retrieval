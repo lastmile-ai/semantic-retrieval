{
 "cells": [
  {
   "cell_type": "markdown",
   "id": "2fd277b6-2bc6-4cdf-8d24-69a56d95f8e3",
   "metadata": {},
   "source": [
    "# Evaluate SR output - hallucations and faithfullness"
   ]
  },
  {
   "cell_type": "code",
   "execution_count": 1,
   "id": "94b6e8fa-c4ea-416f-b874-bb79e65c02ef",
   "metadata": {},
   "outputs": [],
   "source": [
    "import sys\n",
    "\n",
    "sys.path = ['/Users/jonathan/Projects/semantic-retrieval/python/src'] + sys.path"
   ]
  },
  {
   "cell_type": "markdown",
   "id": "c48a1afb-45f3-4e90-8767-8fd720187f14",
   "metadata": {},
   "source": [
    "## Reproduce reports"
   ]
  },
  {
   "cell_type": "code",
   "execution_count": 2,
   "id": "e0345000-9feb-41b7-8bca-1341fee7ee2b",
   "metadata": {},
   "outputs": [],
   "source": [
    "# Reproduce report \n",
    "# in semantic-retrieval/ dir. NOTE: namespace is for pinecone.\n",
    " python python/src/semantic_retrieval/examples/financial_report/generate_report.py \\\n",
    "    --log-level=info \\\n",
    "    --client-name=my_client --viewer-role=\"advisor/my_name\" \\\n",
    "    --namespace='my_namespace' \\\n",
    "    --sample-output-path=my_report.out \\ \n",
    "    --variant-name='covid' # or 'net_cash_flow'"
   ]
  },
  {
   "cell_type": "markdown",
   "id": "e127aa22-f68d-4a46-aa4d-df412cd64bff",
   "metadata": {},
   "source": [
    "## Example eval input: \n",
    "* Client portfolio database (local CSV)\n",
    "* Intermediate SR results: raw retrieved document chunks\n",
    "* SR final output saved in local files"
   ]
  },
  {
   "cell_type": "code",
   "execution_count": 3,
   "id": "d423fb10-ec9b-4614-b9f6-09a7cff65f58",
   "metadata": {},
   "outputs": [
    {
     "name": "stdout",
     "output_type": "stream",
     "text": [
      "Ready\n"
     ]
    }
   ],
   "source": [
    "ROOT_DATA_DIR = \"../../../../../examples/example_data/financial_report/\"\n",
    "\n",
    "print(\"Ready\")"
   ]
  },
  {
   "cell_type": "code",
   "execution_count": 12,
   "id": "0325ef1f-123a-4b7e-a52a-0c8d544254fe",
   "metadata": {},
   "outputs": [
    {
     "name": "stdout",
     "output_type": "stream",
     "text": [
      "Evaluating the following test cases:\n",
      "\n",
      "\n",
      "Eval params: \n",
      "SampleEvaluationParams:\n",
      "\tself.output_sample={'AMZN', 'JNJ', 'MRK', 'AAPL', 'UNH', 'PEP', 'NVDA'}\n",
      "\tself.evaluation_fn=functools.partial(<function idset_jaccard_with_gt at 0x109c3efc0>, gt={'AMZN', 'JNJ', 'MRK', 'AAPL', 'UNH', 'PEP', 'NVDA'}, name='net_income_vs_retrieved')\n",
      "\n",
      "\n",
      "Eval params: \n",
      "SampleEvaluationParams:\n",
      "\tself.output_sample={'AMZN', 'JNJ', 'MRK', 'AAPL', 'UNH', 'PEP', 'NVDA'}\n",
      "\tself.evaluation_fn=functools.partial(<function idset_jaccard_with_gt at 0x109c3efc0>, gt={'AMZN', 'JNJ', 'MRK', 'AAPL', 'UNH', 'PEP', 'NVDA'}, name='covid_vs_retrieved')\n",
      "\n",
      "\n",
      "Eval params: \n",
      "SampleEvaluationParams:\n",
      "\tself.output_sample={'AMZN', 'JNJ', 'MRK', 'AAPL', 'UNH', 'PEP', 'NVDA'}\n",
      "\tself.evaluation_fn=functools.partial(<function idset_jaccard_with_gt at 0x109c3efc0>, gt={'AMZN', 'JNJ', 'MRK', 'AAPL', 'UNH', 'PEP', 'NVDA'}, name='net_income_e2e')\n",
      "\n",
      "\n",
      "Eval params: \n",
      "SampleEvaluationParams:\n",
      "\tself.output_sample={'AMZN', 'JNJ', 'MRK', 'AAPL', 'UNH', 'PEP', 'NVDA'}\n",
      "\tself.evaluation_fn=functools.partial(<function idset_jaccard_with_gt at 0x109c3efc0>, gt={'AMZN', 'JNJ', 'MRK', 'AAPL', 'UNH', 'PEP', 'NVDA'}, name='covid_e2e')\n"
     ]
    }
   ],
   "source": [
    "from semantic_retrieval.evaluation import metrics\n",
    "from semantic_retrieval.examples.financial_report.lib.eval import (\n",
    "    get_test_suite,\n",
    "    test_case_to_sample_eval_params,\n",
    ")\n",
    "\n",
    "evaluation_params_list = [\n",
    "    await test_case_to_sample_eval_params(tc, ROOT_DATA_DIR) for tc in get_test_suite()\n",
    "]\n",
    "\n",
    "# Separate out the valid test params from the error ones.\n",
    "evaluation_params_valid = [ep.unwrap() for ep in evaluation_params_list if ep.is_ok()]\n",
    "\n",
    "print(\"Evaluating the following test cases:\")\n",
    "for eval_param in evaluation_params_valid:\n",
    "    print(f\"\\n\\nEval params: {eval_param}\")\n"
   ]
  },
  {
   "cell_type": "code",
   "execution_count": 13,
   "id": "7360fa02-29f2-49d8-a477-4c7b13274aac",
   "metadata": {},
   "outputs": [
    {
     "data": {
      "text/html": [
       "<div>\n",
       "<style scoped>\n",
       "    .dataframe tbody tr th:only-of-type {\n",
       "        vertical-align: middle;\n",
       "    }\n",
       "\n",
       "    .dataframe tbody tr th {\n",
       "        vertical-align: top;\n",
       "    }\n",
       "\n",
       "    .dataframe thead th {\n",
       "        text-align: right;\n",
       "    }\n",
       "</style>\n",
       "<table border=\"1\" class=\"dataframe\">\n",
       "  <thead>\n",
       "    <tr style=\"text-align: right;\">\n",
       "      <th></th>\n",
       "      <th></th>\n",
       "      <th>value</th>\n",
       "    </tr>\n",
       "    <tr>\n",
       "      <th>name</th>\n",
       "      <th>interpretation</th>\n",
       "      <th></th>\n",
       "    </tr>\n",
       "  </thead>\n",
       "  <tbody>\n",
       "    <tr>\n",
       "      <th>net_income_vs_retrieved</th>\n",
       "      <th>Jaccard similarity with ground truth</th>\n",
       "      <td>1.0</td>\n",
       "    </tr>\n",
       "    <tr>\n",
       "      <th>covid_vs_retrieved</th>\n",
       "      <th>Jaccard similarity with ground truth</th>\n",
       "      <td>1.0</td>\n",
       "    </tr>\n",
       "    <tr>\n",
       "      <th>net_income_e2e</th>\n",
       "      <th>Jaccard similarity with ground truth</th>\n",
       "      <td>1.0</td>\n",
       "    </tr>\n",
       "    <tr>\n",
       "      <th>covid_e2e</th>\n",
       "      <th>Jaccard similarity with ground truth</th>\n",
       "      <td>1.0</td>\n",
       "    </tr>\n",
       "  </tbody>\n",
       "</table>\n",
       "</div>"
      ],
      "text/plain": [
       "                                                              value\n",
       "name                    interpretation                             \n",
       "net_income_vs_retrieved Jaccard similarity with ground truth    1.0\n",
       "covid_vs_retrieved      Jaccard similarity with ground truth    1.0\n",
       "net_income_e2e          Jaccard similarity with ground truth    1.0\n",
       "covid_e2e               Jaccard similarity with ground truth    1.0"
      ]
     },
     "metadata": {},
     "output_type": "display_data"
    }
   ],
   "source": [
    "from semantic_retrieval.evaluation.lib import (\n",
    "    eval_res_to_df,\n",
    "    evaluate,\n",
    ")\n",
    "\n",
    "eval_res = evaluate(evaluation_params_valid)\n",
    "\n",
    "if eval_res.is_err():\n",
    "    logger.critical(f\"Error evaluating: {eval_res.err()}\")\n",
    "\n",
    "df_eval_res = eval_res_to_df(eval_res.unwrap())\n",
    "\n",
    "display(df_eval_res.set_index([\"name\", \"interpretation\"]))"
   ]
  }
 ],
 "metadata": {
  "kernelspec": {
   "display_name": "semantic_retrieval",
   "language": "python",
   "name": "semantic_retrieval"
  },
  "language_info": {
   "codemirror_mode": {
    "name": "ipython",
    "version": 3
   },
   "file_extension": ".py",
   "mimetype": "text/x-python",
   "name": "python",
   "nbconvert_exporter": "python",
   "pygments_lexer": "ipython3",
   "version": "3.11.5"
  }
 },
 "nbformat": 4,
 "nbformat_minor": 5
}
